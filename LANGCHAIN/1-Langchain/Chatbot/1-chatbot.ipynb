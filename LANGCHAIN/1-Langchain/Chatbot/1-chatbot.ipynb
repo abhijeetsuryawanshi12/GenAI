{
 "cells": [
  {
   "cell_type": "markdown",
   "metadata": {},
   "source": [
    "# Build a Chatbot\n",
    "\n",
    "* Conversational RAG\n",
    "* Agents"
   ]
  },
  {
   "cell_type": "code",
   "execution_count": 1,
   "metadata": {},
   "outputs": [],
   "source": [
    "import os\n",
    "from dotenv import load_dotenv\n",
    "load_dotenv()\n",
    "\n",
    "groq_api_key=os.getenv(\"GROQ_API_KEY\")"
   ]
  },
  {
   "cell_type": "code",
   "execution_count": 2,
   "metadata": {},
   "outputs": [
    {
     "data": {
      "text/plain": [
       "ChatGroq(client=<groq.resources.chat.completions.Completions object at 0x000002AD3F3E1FD0>, async_client=<groq.resources.chat.completions.AsyncCompletions object at 0x000002AD3F3E2AE0>, model_name='Gemma2-9b-It', model_kwargs={}, groq_api_key=SecretStr('**********'))"
      ]
     },
     "execution_count": 2,
     "metadata": {},
     "output_type": "execute_result"
    }
   ],
   "source": [
    "from langchain_groq import ChatGroq\n",
    "model=ChatGroq(model=\"Gemma2-9b-It\",groq_api_key=groq_api_key)\n",
    "model"
   ]
  },
  {
   "cell_type": "code",
   "execution_count": 3,
   "metadata": {},
   "outputs": [
    {
     "data": {
      "text/plain": [
       "AIMessage(content=\"Hello Abhi! It's nice to meet you.\\n\\nBeing an AI developer is fascinating! What kind of AI projects are you working on? \\n\\nI'm always eager to learn more about what people are creating in the AI space.\\n\", additional_kwargs={}, response_metadata={'token_usage': {'completion_tokens': 52, 'prompt_tokens': 20, 'total_tokens': 72, 'completion_time': 0.094545455, 'prompt_time': 7.7989e-05, 'queue_time': 0.020680711, 'total_time': 0.094623444}, 'model_name': 'Gemma2-9b-It', 'system_fingerprint': 'fp_10c08bf97d', 'finish_reason': 'stop', 'logprobs': None}, id='run-2fac1527-21da-48ee-9641-e10a2b38a2b7-0', usage_metadata={'input_tokens': 20, 'output_tokens': 52, 'total_tokens': 72})"
      ]
     },
     "execution_count": 3,
     "metadata": {},
     "output_type": "execute_result"
    }
   ],
   "source": [
    "from langchain_core.messages import HumanMessage\n",
    "model.invoke([HumanMessage(content=\"Hi, My name is Abhi and I am AI developer\")])"
   ]
  },
  {
   "cell_type": "code",
   "execution_count": 4,
   "metadata": {},
   "outputs": [
    {
     "data": {
      "text/plain": [
       "AIMessage(content='My apologies for the mix-up!  \\n\\nYou said your name is Abhi and that you are an AI developer. 😊 \\n\\n\\n\\n', additional_kwargs={}, response_metadata={'token_usage': {'completion_tokens': 30, 'prompt_tokens': 68, 'total_tokens': 98, 'completion_time': 0.054545455, 'prompt_time': 0.002280631, 'queue_time': 0.019911896999999998, 'total_time': 0.056826086}, 'model_name': 'Gemma2-9b-It', 'system_fingerprint': 'fp_10c08bf97d', 'finish_reason': 'stop', 'logprobs': None}, id='run-35eca22b-5524-4755-8b03-cbff3f874ace-0', usage_metadata={'input_tokens': 68, 'output_tokens': 30, 'total_tokens': 98})"
      ]
     },
     "execution_count": 4,
     "metadata": {},
     "output_type": "execute_result"
    }
   ],
   "source": [
    "from langchain_core.messages import AIMessage\n",
    "model.invoke([\n",
    "    HumanMessage(content=\"Hi, My name is Abhi and I am AI developer\"),\n",
    "    AIMessage(content=\"Hello Krish! It's nice to meet you .\\nn\\n As an AI developer, what kind of work you do?\"),\n",
    "    HumanMessage(content=\"Hey What's my name and what do I do?\")\n",
    "])"
   ]
  },
  {
   "cell_type": "markdown",
   "metadata": {},
   "source": [
    "### Mesage History\n",
    "To wrap our model and make it stateful. It keeps track of inputs and outputs of model and store them in some datastore"
   ]
  },
  {
   "cell_type": "code",
   "execution_count": null,
   "metadata": {},
   "outputs": [],
   "source": []
  }
 ],
 "metadata": {
  "kernelspec": {
   "display_name": "Python 3",
   "language": "python",
   "name": "python3"
  },
  "language_info": {
   "codemirror_mode": {
    "name": "ipython",
    "version": 3
   },
   "file_extension": ".py",
   "mimetype": "text/x-python",
   "name": "python",
   "nbconvert_exporter": "python",
   "pygments_lexer": "ipython3",
   "version": "3.12.6"
  }
 },
 "nbformat": 4,
 "nbformat_minor": 2
}
